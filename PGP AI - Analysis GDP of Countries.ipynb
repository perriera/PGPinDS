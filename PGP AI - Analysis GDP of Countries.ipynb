{
 "cells": [
  {
   "cell_type": "markdown",
   "metadata": {},
   "source": [
    "<img src=\"http://cfs22.simplicdn.net/ice9/new_logo.svgz \"/>\n",
    "\n",
    "# Assignment 01: Evaluate the GDP Dataset\n",
    "\n",
    "*The comments/sections provided are your cues to perform the assignment. You don't need to limit yourself to the number of rows/cells provided. You can add additional rows in each section to add more lines of code.*\n",
    "\n",
    "*If at any point in time you need help on solving this assignment, view our demo video to understand the different steps of the code.*\n",
    "\n",
    "**Happy coding!**\n",
    "\n",
    "* * *"
   ]
  },
  {
   "cell_type": "markdown",
   "metadata": {},
   "source": [
    "#### 1: View and add the dataset"
   ]
  },
  {
   "cell_type": "code",
   "execution_count": 1,
   "metadata": {},
   "outputs": [],
   "source": [
    "#Import required library\n",
    "import numpy as np\n"
   ]
  },
  {
   "cell_type": "code",
   "execution_count": 20,
   "metadata": {},
   "outputs": [
    {
     "data": {
      "text/plain": [
       "('Algeria',\n",
       " 'Angola',\n",
       " 'Argentina',\n",
       " 'Australia',\n",
       " 'Austria',\n",
       " 'Bahamas',\n",
       " 'Bangladesh',\n",
       " 'Belarus',\n",
       " 'Belgium',\n",
       " 'Bhutan',\n",
       " 'Brazil',\n",
       " 'Bulgaria',\n",
       " 'Cambodia',\n",
       " 'Cameroon',\n",
       " 'Chile',\n",
       " 'China',\n",
       " 'Colombia',\n",
       " 'Cyprus',\n",
       " 'Denmark',\n",
       " 'El Salvador',\n",
       " 'Estonia',\n",
       " 'Ethiopia',\n",
       " 'Fiji',\n",
       " 'Finland',\n",
       " 'France',\n",
       " 'Georgia',\n",
       " 'Ghana',\n",
       " 'Grenada',\n",
       " 'Guinea',\n",
       " 'Haiti',\n",
       " 'Honduras',\n",
       " 'Hungary',\n",
       " 'India',\n",
       " 'Indonesia',\n",
       " 'Ireland',\n",
       " 'Italy',\n",
       " 'Japan',\n",
       " 'Kenya',\n",
       " 'South Korea',\n",
       " 'Liberia',\n",
       " 'Malaysia',\n",
       " 'Mexico',\n",
       " 'Morocco',\n",
       " 'Nepal',\n",
       " 'New Zealand',\n",
       " 'Norway',\n",
       " 'Pakistan',\n",
       " 'Peru',\n",
       " 'Qatar',\n",
       " 'Russia',\n",
       " 'Singapore',\n",
       " 'South Africa',\n",
       " 'Spain',\n",
       " 'Sweden',\n",
       " 'Switzerland',\n",
       " 'Thailand',\n",
       " 'United Arab Emirates',\n",
       " 'United Kingdom',\n",
       " 'United States',\n",
       " 'Uruguay',\n",
       " 'Venezuela',\n",
       " 'Vietnam',\n",
       " 'Zimbabwe')"
      ]
     },
     "execution_count": 20,
     "metadata": {},
     "output_type": "execute_result"
    }
   ],
   "source": [
    "#Manually add the dataset\n",
    "countries = ('Algeria','Angola','Argentina','Australia','Austria','Bahamas','Bangladesh','Belarus','Belgium','Bhutan','Brazil','Bulgaria','Cambodia','Cameroon','Chile','China','Colombia','Cyprus','Denmark','El Salvador','Estonia','Ethiopia','Fiji','Finland','France','Georgia','Ghana','Grenada','Guinea','Haiti','Honduras','Hungary','India','Indonesia','Ireland','Italy','Japan','Kenya', 'South Korea','Liberia','Malaysia','Mexico', 'Morocco','Nepal','New Zealand','Norway','Pakistan', 'Peru','Qatar','Russia','Singapore','South Africa','Spain','Sweden','Switzerland','Thailand', 'United Arab Emirates','United Kingdom','United States','Uruguay','Venezuela','Vietnam','Zimbabwe')\n",
    "gdp_values = np.array([2255.225482,629.9553062,11601.63022,25306.82494,27266.40335,19466.99052,588.3691778,2890.345675,24733.62696,1445.760002,4803.398244,2618.876037,590.4521124,665.7982328,7122.938458,2639.54156,3362.4656,15378.16704,30860.12808,2579.115607,6525.541272,229.6769525,2242.689259,27570.4852,23016.84778,1334.646773,402.6953275,6047.200797,394.1156638,385.5793827,1414.072488,5745.981529,837.7464011,1206.991065,27715.52837,18937.24998,39578.07441,478.2194906,16684.21278,279.2204061,5345.213415,6288.25324,1908.304416,274.8728621,14646.42094,40034.85063,672.1547506,3359.517402,36152.66676,3054.727742,33529.83052,3825.093781,15428.32098,33630.24604,39170.41371,2699.123242,21058.43643,28272.40661,37691.02733,9581.05659,5671.912202,757.4009286,347.7456605])\n",
    "countries\n",
    "\n"
   ]
  },
  {
   "cell_type": "markdown",
   "metadata": {
    "collapsed": true
   },
   "source": [
    "#### 2: Find and print the name of the country with the highest GDP"
   ]
  },
  {
   "cell_type": "code",
   "execution_count": 5,
   "metadata": {},
   "outputs": [
    {
     "data": {
      "text/plain": [
       "array([ 2255.225482 ,   629.9553062, 11601.63022  , 25306.82494  ,\n",
       "       27266.40335  , 19466.99052  ,   588.3691778,  2890.345675 ,\n",
       "       24733.62696  ,  1445.760002 ,  4803.398244 ,  2618.876037 ,\n",
       "         590.4521124,   665.7982328,  7122.938458 ,  2639.54156  ,\n",
       "        3362.4656   , 15378.16704  , 30860.12808  ,  2579.115607 ,\n",
       "        6525.541272 ,   229.6769525,  2242.689259 , 27570.4852   ,\n",
       "       23016.84778  ,  1334.646773 ,   402.6953275,  6047.200797 ,\n",
       "         394.1156638,   385.5793827,  1414.072488 ,  5745.981529 ,\n",
       "         837.7464011,  1206.991065 , 27715.52837  , 18937.24998  ,\n",
       "       39578.07441  ,   478.2194906, 16684.21278  ,   279.2204061,\n",
       "        5345.213415 ,  6288.25324  ,  1908.304416 ,   274.8728621,\n",
       "       14646.42094  , 40034.85063  ,   672.1547506,  3359.517402 ,\n",
       "       36152.66676  ,  3054.727742 , 33529.83052  ,  3825.093781 ,\n",
       "       15428.32098  , 33630.24604  , 39170.41371  ,  2699.123242 ,\n",
       "       21058.43643  , 28272.40661  , 37691.02733  ,  9581.05659  ,\n",
       "        5671.912202 ,   757.4009286,   347.7456605])"
      ]
     },
     "execution_count": 5,
     "metadata": {},
     "output_type": "execute_result"
    }
   ],
   "source": [
    "gdp_values"
   ]
  },
  {
   "cell_type": "code",
   "execution_count": 14,
   "metadata": {},
   "outputs": [
    {
     "data": {
      "text/plain": [
       "'Norway'"
      ]
     },
     "execution_count": 14,
     "metadata": {},
     "output_type": "execute_result"
    }
   ],
   "source": [
    "#Use the argmax() method to find the highest GDP\n",
    "h1 = np.argmax(gdp_values)\n",
    "h1\n",
    "countries[h1]"
   ]
  },
  {
   "cell_type": "code",
   "execution_count": 15,
   "metadata": {},
   "outputs": [
    {
     "data": {
      "text/plain": [
       "'Ethiopia'"
      ]
     },
     "execution_count": 15,
     "metadata": {},
     "output_type": "execute_result"
    }
   ],
   "source": [
    "l1 = np.argmin(gdp_values)\n"
   ]
  },
  {
   "cell_type": "code",
   "execution_count": 18,
   "metadata": {},
   "outputs": [
    {
     "data": {
      "text/plain": [
       "'Ethiopia'"
      ]
     },
     "execution_count": 18,
     "metadata": {},
     "output_type": "execute_result"
    }
   ],
   "source": [
    "#Print the name of the country\n",
    "countries[l1]"
   ]
  },
  {
   "cell_type": "markdown",
   "metadata": {},
   "source": [
    "#### 3: Find and print the name of the country with the lowest GDP"
   ]
  },
  {
   "cell_type": "code",
   "execution_count": 11,
   "metadata": {},
   "outputs": [
    {
     "data": {
      "text/plain": [
       "21"
      ]
     },
     "execution_count": 11,
     "metadata": {},
     "output_type": "execute_result"
    }
   ],
   "source": [
    "#Use the argmin() method to find the lowest GDP\n",
    "l1 = np.argmin(gdp_values)\n",
    "l1\n"
   ]
  },
  {
   "cell_type": "code",
   "execution_count": 12,
   "metadata": {},
   "outputs": [
    {
     "data": {
      "text/plain": [
       "'Ethiopia'"
      ]
     },
     "execution_count": 12,
     "metadata": {},
     "output_type": "execute_result"
    }
   ],
   "source": [
    "#Print the name of the country\n",
    "countries[l1]\n"
   ]
  },
  {
   "cell_type": "markdown",
   "metadata": {},
   "source": [
    "#### 4: Print out text ('evaluating country') and input value ('country name') iteratively"
   ]
  },
  {
   "cell_type": "code",
   "execution_count": 16,
   "metadata": {},
   "outputs": [
    {
     "name": "stdout",
     "output_type": "stream",
     "text": [
      "evaluating country Algeria\n",
      "country nane Algeria\n",
      "evaluating country Angola\n",
      "country nane Angola\n",
      "evaluating country Argentina\n",
      "country nane Argentina\n",
      "evaluating country Australia\n",
      "country nane Australia\n",
      "evaluating country Austria\n",
      "country nane Austria\n",
      "evaluating country Bahamas\n",
      "country nane Bahamas\n",
      "evaluating country Bangladesh\n",
      "country nane Bangladesh\n",
      "evaluating country Belarus\n",
      "country nane Belarus\n",
      "evaluating country Belgium\n",
      "country nane Belgium\n",
      "evaluating country Bhutan\n",
      "country nane Bhutan\n",
      "evaluating country Brazil\n",
      "country nane Brazil\n",
      "evaluating country Bulgaria\n",
      "country nane Bulgaria\n",
      "evaluating country Cambodia\n",
      "country nane Cambodia\n",
      "evaluating country Cameroon\n",
      "country nane Cameroon\n",
      "evaluating country Chile\n",
      "country nane Chile\n",
      "evaluating country China\n",
      "country nane China\n",
      "evaluating country Colombia\n",
      "country nane Colombia\n",
      "evaluating country Cyprus\n",
      "country nane Cyprus\n",
      "evaluating country Denmark\n",
      "country nane Denmark\n",
      "evaluating country El Salvador\n",
      "country nane El Salvador\n",
      "evaluating country Estonia\n",
      "country nane Estonia\n",
      "evaluating country Ethiopia\n",
      "country nane Ethiopia\n",
      "evaluating country Fiji\n",
      "country nane Fiji\n",
      "evaluating country Finland\n",
      "country nane Finland\n",
      "evaluating country France\n",
      "country nane France\n",
      "evaluating country Georgia\n",
      "country nane Georgia\n",
      "evaluating country Ghana\n",
      "country nane Ghana\n",
      "evaluating country Grenada\n",
      "country nane Grenada\n",
      "evaluating country Guinea\n",
      "country nane Guinea\n",
      "evaluating country Haiti\n",
      "country nane Haiti\n",
      "evaluating country Honduras\n",
      "country nane Honduras\n",
      "evaluating country Hungary\n",
      "country nane Hungary\n",
      "evaluating country India\n",
      "country nane India\n",
      "evaluating country Indonesia\n",
      "country nane Indonesia\n",
      "evaluating country Ireland\n",
      "country nane Ireland\n",
      "evaluating country Italy\n",
      "country nane Italy\n",
      "evaluating country Japan\n",
      "country nane Japan\n",
      "evaluating country Kenya\n",
      "country nane Kenya\n",
      "evaluating country South Korea\n",
      "country nane South Korea\n",
      "evaluating country Liberia\n",
      "country nane Liberia\n",
      "evaluating country Malaysia\n",
      "country nane Malaysia\n",
      "evaluating country Mexico\n",
      "country nane Mexico\n",
      "evaluating country Morocco\n",
      "country nane Morocco\n",
      "evaluating country Nepal\n",
      "country nane Nepal\n",
      "evaluating country New Zealand\n",
      "country nane New Zealand\n",
      "evaluating country Norway\n",
      "country nane Norway\n",
      "evaluating country Pakistan\n",
      "country nane Pakistan\n",
      "evaluating country Peru\n",
      "country nane Peru\n",
      "evaluating country Qatar\n",
      "country nane Qatar\n",
      "evaluating country Russia\n",
      "country nane Russia\n",
      "evaluating country Singapore\n",
      "country nane Singapore\n",
      "evaluating country South Africa\n",
      "country nane South Africa\n",
      "evaluating country Spain\n",
      "country nane Spain\n",
      "evaluating country Sweden\n",
      "country nane Sweden\n",
      "evaluating country Switzerland\n",
      "country nane Switzerland\n",
      "evaluating country Thailand\n",
      "country nane Thailand\n",
      "evaluating country United Arab Emirates\n",
      "country nane United Arab Emirates\n",
      "evaluating country United Kingdom\n",
      "country nane United Kingdom\n",
      "evaluating country United States\n",
      "country nane United States\n",
      "evaluating country Uruguay\n",
      "country nane Uruguay\n",
      "evaluating country Venezuela\n",
      "country nane Venezuela\n",
      "evaluating country Vietnam\n",
      "country nane Vietnam\n",
      "evaluating country Zimbabwe\n",
      "country nane Zimbabwe\n"
     ]
    }
   ],
   "source": [
    "#Use a for loop to print the required output\n",
    "for country in countries:\n",
    "    print('evaluating country',country)\n",
    "    print('country nane',country)"
   ]
  },
  {
   "cell_type": "markdown",
   "metadata": {},
   "source": [
    "#### 5: Print out the entire list of the countries with their GDPs"
   ]
  },
  {
   "cell_type": "code",
   "execution_count": 17,
   "metadata": {},
   "outputs": [
    {
     "name": "stdout",
     "output_type": "stream",
     "text": [
      "Algeria    2255.225482\n",
      "Angola    629.9553062\n",
      "Argentina    11601.63022\n",
      "Australia    25306.82494\n",
      "Austria    27266.40335\n",
      "Bahamas    19466.99052\n",
      "Bangladesh    588.3691778\n",
      "Belarus    2890.345675\n",
      "Belgium    24733.62696\n",
      "Bhutan    1445.760002\n",
      "Brazil    4803.398244\n",
      "Bulgaria    2618.876037\n",
      "Cambodia    590.4521124\n",
      "Cameroon    665.7982328\n",
      "Chile    7122.938458\n",
      "China    2639.54156\n",
      "Colombia    3362.4656\n",
      "Cyprus    15378.16704\n",
      "Denmark    30860.12808\n",
      "El Salvador    2579.115607\n",
      "Estonia    6525.541272\n",
      "Ethiopia    229.6769525\n",
      "Fiji    2242.689259\n",
      "Finland    27570.4852\n",
      "France    23016.84778\n",
      "Georgia    1334.646773\n",
      "Ghana    402.6953275\n",
      "Grenada    6047.200797\n",
      "Guinea    394.1156638\n",
      "Haiti    385.5793827\n",
      "Honduras    1414.072488\n",
      "Hungary    5745.981529\n",
      "India    837.7464011\n",
      "Indonesia    1206.991065\n",
      "Ireland    27715.52837\n",
      "Italy    18937.24998\n",
      "Japan    39578.07441\n",
      "Kenya    478.2194906\n",
      "South Korea    16684.21278\n",
      "Liberia    279.2204061\n",
      "Malaysia    5345.213415\n",
      "Mexico    6288.25324\n",
      "Morocco    1908.304416\n",
      "Nepal    274.8728621\n",
      "New Zealand    14646.42094\n",
      "Norway    40034.85063\n",
      "Pakistan    672.1547506\n",
      "Peru    3359.517402\n",
      "Qatar    36152.66676\n",
      "Russia    3054.727742\n",
      "Singapore    33529.83052\n",
      "South Africa    3825.093781\n",
      "Spain    15428.32098\n",
      "Sweden    33630.24604\n",
      "Switzerland    39170.41371\n",
      "Thailand    2699.123242\n",
      "United Arab Emirates    21058.43643\n",
      "United Kingdom    28272.40661\n",
      "United States    37691.02733\n",
      "Uruguay    9581.05659\n",
      "Venezuela    5671.912202\n",
      "Vietnam    757.4009286\n",
      "Zimbabwe    347.7456605\n"
     ]
    }
   ],
   "source": [
    "#Use a for loop to print the required list\n",
    "for i, country in enumerate(countries):\n",
    "    print(country, '  ', gdp_values[i])"
   ]
  },
  {
   "cell_type": "code",
   "execution_count": null,
   "metadata": {},
   "outputs": [],
   "source": []
  },
  {
   "cell_type": "markdown",
   "metadata": {},
   "source": [
    "#### 6: Print the following:\n",
    "1. Highest GPD value\n",
    "2. Lowest GDP value\n",
    "3. Mean GDP value\n",
    "4. Standardized GDP value\n",
    "5. Sum of all the GDPs"
   ]
  },
  {
   "cell_type": "code",
   "execution_count": 19,
   "metadata": {},
   "outputs": [
    {
     "name": "stdout",
     "output_type": "stream",
     "text": [
      "Norway   40034.85063   45\n",
      "Ethiopia   229.6769525   21\n",
      "11289.409271639683\n",
      "[-0.22565799 -0.26625437  0.00779873  0.35013034  0.39907715  0.20426157\n",
      " -0.26729312 -0.2097938   0.33581286 -0.24587701 -0.16200912 -0.21657464\n",
      " -0.26724109 -0.26535908 -0.1040711  -0.21605845 -0.19800108  0.10212996\n",
      "  0.48884206 -0.21756778 -0.11899303 -0.27625262 -0.22597112  0.40667258\n",
      "  0.29293074 -0.24865242 -0.27193092 -0.13094113 -0.27214523 -0.27235845\n",
      " -0.24666851 -0.13846505 -0.26106412 -0.25184103  0.4102955   0.19102958\n",
      "  0.70660099 -0.27004446  0.13475268 -0.27501511 -0.14847553 -0.12492006\n",
      " -0.23432346 -0.2751237   0.08385223  0.71801046 -0.2652003  -0.19807472\n",
      "  0.62104035 -0.20568783  0.55552652 -0.18644544  0.10338272  0.55803472\n",
      "  0.69641835 -0.2145702   0.24401308  0.42420534  0.65946588 -0.04267164\n",
      " -0.14031517 -0.263071   -0.27330347]\n",
      "711232.7841133\n",
      "63\n"
     ]
    }
   ],
   "source": [
    "print(countries[h1],' ', gdp_values[h1], ' ', h1)\n",
    "print(countries[l1],' ', gdp_values[l1], ' ', l1)\n",
    "gdp_mean = np.mean(gdp_values)\n",
    "gdp_sum = np.sum(gdp_values)\n",
    "gdp_normalized = gdp_values - gdp_mean\n",
    "gdp_normalized = gdp_normalized / gdp_values.max()\n",
    "print(gdp_mean)\n",
    "print(gdp_normalized)\n",
    "print(gdp_sum)\n",
    "print(gdp_values.size)"
   ]
  }
 ],
 "metadata": {
  "kernelspec": {
   "display_name": "Python 3",
   "language": "python",
   "name": "python3"
  },
  "language_info": {
   "codemirror_mode": {
    "name": "ipython",
    "version": 3
   },
   "file_extension": ".py",
   "mimetype": "text/x-python",
   "name": "python",
   "nbconvert_exporter": "python",
   "pygments_lexer": "ipython3",
   "version": "3.8.3"
  }
 },
 "nbformat": 4,
 "nbformat_minor": 1
}
